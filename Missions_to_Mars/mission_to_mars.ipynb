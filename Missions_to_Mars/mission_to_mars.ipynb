{
 "cells": [
  {
   "cell_type": "code",
   "execution_count": 47,
   "metadata": {},
   "outputs": [],
   "source": [
    "#import dependencies\n",
    "from splinter import Browser\n",
    "from bs4 import BeautifulSoup\n",
    "from selenium import webdriver\n",
    "from webdriver_manager.chrome import ChromeDriverManager\n",
    "import pymongo\n",
    "import pandas as pd\n",
    "import time"
   ]
  },
  {
   "cell_type": "code",
   "execution_count": 6,
   "metadata": {},
   "outputs": [
    {
     "name": "stderr",
     "output_type": "stream",
     "text": [
      "\n",
      "\n",
      "====== WebDriver manager ======\n",
      "Getting latest opera release info for v.98.0.4758.82\n",
      "Trying to download new driver from https://github.com/operasoftware/operachromiumdriver/releases/download/v.98.0.4758.82/operadriver_win64.zip\n",
      "Driver has been saved in cache [C:\\Users\\Ruby\\.wdm\\drivers\\operadriver\\win64\\v.98.0.4758.82]\n"
     ]
    },
    {
     "data": {
      "text/plain": [
       "('<html>\\n <head>\\n  <meta charset=\"utf-8\"/>\\n  <meta content=\"width=device-width, initial-scale=1\" name=\"viewport\"/>\\n  <link crossorigin=\"anonymous\" href=\"https://cdn.jsdelivr.net/npm/bootstrap@5.0.0-beta1/dist/css/bootstrap.min.css\" integrity=\"sha384-giJF6kkoqNQ00vy+HMDP7azOuL0xtbfIcaT9wjKHr8RbDVddVHyTfAAsrekwKmP1\" rel=\"stylesheet\"/>\\n  <link href=\"css/font.css\" rel=\"stylesheet\" type=\"text/css\"/>\\n  <link href=\"css/app.css\" rel=\"stylesheet\" type=\"text/css\"/>\\n  <link crossorigin=\"anonymous\" href=\"https://pro.fontawesome.com/releases/v5.10.0/css/all.css\" integrity=\"sha384-AYmEC3Yw5cVb3ZcuHtOA93w35dYTsvhLPVnYs9eStHfGJvOvKxVfELGroGkvsg+p\" rel=\"stylesheet\"/>\\n  <title>\\n   News - Mars Exploration Program\\n  </title>\\n </head>\\n <body>\\n  <div class=\"col-md-12\">\\n   <div class=\"row\">\\n    <nav class=\"navbar navbar-expand-lg navbar-light fixed-top\">\\n     <div class=\"container-fluid\">\\n      <a class=\"navbar-brand\" href=\"#\">\\n       <img src=\"image/nasa.png\" width=\"80\"/>\\n       <span class=\"logo\">\\n        MARS Planet Science\\n       </span>\\n       <span class=\"logo1\">\\n        Exploration Program\\n       </span>\\n      </a>\\n      <button aria-controls=\"navbarNav\" aria-expanded=\"false\" aria-label=\"Toggle navigation\" class=\"navbar-toggler\" data-bs-target=\"#navbarNav\" data-bs-toggle=\"collapse\" type=\"button\">\\n       <span class=\"navbar-toggler-icon\">\\n       </span>\\n      </button>\\n      <div class=\"collapse navbar-collapse justify-content-end\" id=\"navbarNav\">\\n       <ul class=\"navbar-nav\">\\n        <li class=\"nav-item\">\\n         <a aria-current=\"page\" class=\"nav-link active\" href=\"#\">\\n          The Red Planet\\n         </a>\\n        </li>\\n        <li class=\"nav-item\">\\n         <a class=\"nav-link\" href=\"#\">\\n          The Program\\n         </a>\\n        </li>\\n        <li class=\"nav-item\">\\n         <a class=\"nav-link\" href=\"#\">\\n          News &amp; Events\\n         </a>\\n        </li>\\n        <li class=\"nav-item\">\\n         <a class=\"nav-link\" href=\"#\">\\n          Multimedia\\n         </a>\\n        </li>\\n        <li class=\"nav-item\">\\n         <a class=\"nav-link\" href=\"#\">\\n          Missions\\n         </a>\\n        </li>\\n        <li class=\"nav-item\">\\n         <a class=\"nav-link\" href=\"#\">\\n          More\\n         </a>\\n        </li>\\n        <li class=\"nav-item nav_search\">\\n         <a class=\"nav-link\" href=\"#\">\\n         </a>\\n        </li>\\n       </ul>\\n      </div>\\n     </div>\\n    </nav>\\n    <section class=\"search\">\\n     <div class=\"container\">\\n      <h1>\\n       News\\n      </h1>\\n      <div class=\"col-md-12 filter\">\\n       <div class=\"row\">\\n        <div class=\"col-md-3 search_binder\">\\n         <input class=\"search_field\" name=\"search\" type=\"text\"/>\\n         <input class=\"search_submit\" name=\"search\" type=\"text\"/>\\n        </div>\\n        <div class=\"col-md-3\">\\n         <select aria-label=\"Default select example\" class=\"form-select\" id=\"year\">\\n          <option selected=\"\">\\n           Latest\\n          </option>\\n          <option>\\n           2020\\n          </option>\\n          <option>\\n           2019\\n          </option>\\n         </select>\\n        </div>\\n        <div class=\"col-md-3\">\\n         <select aria-label=\"Default select example\" class=\"form-select\" id=\"cat\">\\n          <option selected=\"\">\\n           All Categories\\n          </option>\\n          <option>\\n           Feature Stories\\n          </option>\\n          <option>\\n           Status Reports\\n          </option>\\n          <option>\\n           Press Releases\\n          </option>\\n         </select>\\n        </div>\\n        <div class=\"col-md-3\">\\n        </div>\\n       </div>\\n      </div>\\n     </div>\\n    </section>\\n    <section class=\"image_and_description_container\">\\n     <div class=\"container\" id=\"news\">\\n      <div class=\"col-md-12\">\\n       <hr/>\\n       <div class=\"row\">\\n        <div class=\"col-md-4\">\\n         <div class=\"list_image\">\\n          <img src=\"https://mars.nasa.gov/system/news_items/list_view_images/8647_PIA23773-32x24.jpg\"/>\\n         </div>\\n        </div>\\n        <div class=\"col-md-8\">\\n         <div class=\"list_text\">\\n          <div class=\"list_date\">\\n           March 15, 2022\\n          </div>\\n          <div class=\"content_title\">\\n           NASA\\'s Curiosity Keeps Rolling As Team Operates Rover From Home\\n          </div>\\n          <div class=\"article_teaser_body\">\\n           The team has learned to meet new challenges as they work remotely on the Mars mission.\\n          </div>\\n         </div>\\n        </div>\\n       </div>\\n      </div>\\n      <div class=\"col-md-12\">\\n       <hr/>\\n       <div class=\"row\">\\n        <div class=\"col-md-4\">\\n         <div class=\"list_image\">\\n          <img src=\"https://mars.nasa.gov/system/news_items/list_view_images/8529_PIA23512-226.gif\"/>\\n         </div>\\n        </div>\\n        <div class=\"col-md-8\">\\n         <div class=\"list_text\">\\n          <div class=\"list_date\">\\n           March 14, 2022\\n          </div>\\n          <div class=\"content_title\">\\n           InSight\\'s \\'Mole\\' Team Peers into the Pit\\n          </div>\\n          <div class=\"article_teaser_body\">\\n           Efforts to save the heat probe continue.\\n          </div>\\n         </div>\\n        </div>\\n       </div>\\n      </div>\\n      <div class=\"col-md-12\">\\n       <hr/>\\n       <div class=\"row\">\\n        <div class=\"col-md-4\">\\n         <div class=\"list_image\">\\n          <img src=\"https://mars.nasa.gov/system/news_items/list_view_images/8785_PIA24231-320.jpg\"/>\\n         </div>\\n        </div>\\n        <div class=\"col-md-8\">\\n         <div class=\"list_text\">\\n          <div class=\"list_date\">\\n           March 12, 2022\\n          </div>\\n          <div class=\"content_title\">\\n           NASA\\'s Perseverance Rover Is Midway to Mars\\n          </div>\\n          <div class=\"article_teaser_body\">\\n           Sometimes half measures can be a good thing – especially on a journey this long. The agency\\'s latest rover only has about 146 million miles left to reach its destination.\\n          </div>\\n         </div>\\n        </div>\\n       </div>\\n      </div>\\n      <div class=\"col-md-12\">\\n       <hr/>\\n       <div class=\"row\">\\n        <div class=\"col-md-4\">\\n         <div class=\"list_image\">\\n          <img src=\"https://mars.nasa.gov/system/news_items/list_view_images/8794_PIA23496-320.jpg\"/>\\n         </div>\\n        </div>\\n        <div class=\"col-md-8\">\\n         <div class=\"list_text\">\\n          <div class=\"list_date\">\\n           March 9, 2022\\n          </div>\\n          <div class=\"content_title\">\\n           Independent Review Indicates NASA Prepared for Mars Sample Return Campaign\\n          </div>\\n          <div class=\"article_teaser_body\">\\n           NASA released an independent review report Tuesday indicating the agency is well positioned for its Mars Sample Return campaign to bring pristine samples from Mars to Earth for scientific study.\\n          </div>\\n         </div>\\n        </div>\\n       </div>\\n      </div>\\n      <div class=\"col-md-12\">\\n       <hr/>\\n       <div class=\"row\">\\n        <div class=\"col-md-4\">\\n         <div class=\"list_image\">\\n          <img src=\"https://mars.nasa.gov/system/news_items/list_view_images/8634_PIA23769-320x240.jpg\"/>\\n         </div>\\n        </div>\\n        <div class=\"col-md-8\">\\n         <div class=\"list_text\">\\n          <div class=\"list_date\">\\n           March 9, 2022\\n          </div>\\n          <div class=\"content_title\">\\n           10.9 Million Names Now Aboard NASA\\'s Perseverance Mars Rover\\n          </div>\\n          <div class=\"article_teaser_body\">\\n           As part of NASA\\'s \\'Send Your Name to Mars\\' campaign, they\\'ve been stenciled onto three microchips along with essays from NASA\\'s \\'Name the Rover\\' contest. Next stop: Mars.\\n          </div>\\n         </div>\\n        </div>\\n       </div>\\n      </div>\\n      <div class=\"col-md-12\">\\n       <hr/>\\n       <div class=\"row\">\\n        <div class=\"col-md-4\">\\n         <div class=\"list_image\">\\n          <img src=\"https://mars.nasa.gov/system/news_items/list_view_images/8662_video-collage-perseverance-320x240.jpg\"/>\\n         </div>\\n        </div>\\n        <div class=\"col-md-8\">\\n         <div class=\"list_text\">\\n          <div class=\"list_date\">\\n           March 8, 2022\\n          </div>\\n          <div class=\"content_title\">\\n           Meet the People Behind NASA\\'s Perseverance Rover\\n          </div>\\n          <div class=\"article_teaser_body\">\\n           These are the scientists and engineers who built NASA\\'s next Mars rover and who will guide it to a safe landing in Jezero Crater.\\n          </div>\\n         </div>\\n        </div>\\n       </div>\\n      </div>\\n      <div class=\"col-md-12\">\\n       <hr/>\\n       <div class=\"row\">\\n        <div class=\"col-md-4\">\\n         <div class=\"list_image\">\\n          <img src=\"https://mars.nasa.gov/system/news_items/list_view_images/8762_PIA24097-320x240.jpg\"/>\\n         </div>\\n        </div>\\n        <div class=\"col-md-8\">\\n         <div class=\"list_text\">\\n          <div class=\"list_date\">\\n           March 7, 2022\\n          </div>\\n          <div class=\"content_title\">\\n           NASA\\'s New Mars Rover Is Ready for Space Lasers\\n          </div>\\n          <div class=\"article_teaser_body\">\\n           Perseverance is one of a few Mars spacecraft carrying laser retroreflectors. The devices could provide new science and safer Mars landings in the future.\\n          </div>\\n         </div>\\n        </div>\\n       </div>\\n      </div>\\n      <div class=\"col-md-12\">\\n       <hr/>\\n       <div class=\"row\">\\n        <div class=\"col-md-4\">\\n         <div class=\"list_image\">\\n          <img src=\"https://mars.nasa.gov/system/news_items/list_view_images/8554_PIA23553-320x240.jpg\"/>\\n         </div>\\n        </div>\\n        <div class=\"col-md-8\">\\n         <div class=\"list_text\">\\n          <div class=\"list_date\">\\n           March 6, 2022\\n          </div>\\n          <div class=\"content_title\">\\n           Two of a Space Kind: Apollo 12 and Mars 2020\\n          </div>\\n          <div class=\"article_teaser_body\">\\n           Apollo 12 and the upcoming Mars 2020 mission may be separated by half a century, but they share several goals unique in the annals of space exploration.\\n          </div>\\n         </div>\\n        </div>\\n       </div>\\n      </div>\\n      <div class=\"col-md-12\">\\n       <hr/>\\n       <div class=\"row\">\\n        <div class=\"col-md-4\">\\n         <div class=\"list_image\">\\n          <img src=\"https://mars.nasa.gov/system/news_items/list_view_images/8776_PIA24098-320.gif\"/>\\n         </div>\\n        </div>\\n        <div class=\"col-md-8\">\\n         <div class=\"list_text\">\\n          <div class=\"list_date\">\\n           March 5, 2022\\n          </div>\\n          <div class=\"content_title\">\\n           NASA InSight\\'s \\'Mole\\' Is Out of Sight\\n          </div>\\n          <div class=\"article_teaser_body\">\\n           Now that the heat probe is just below the Martian surface, InSight\\'s arm will scoop some additional soil on top to help it keep digging so it can take Mars\\' temperature.\\n          </div>\\n         </div>\\n        </div>\\n       </div>\\n      </div>\\n      <div class=\"col-md-12\">\\n       <hr/>\\n       <div class=\"row\">\\n        <div class=\"col-md-4\">\\n         <div class=\"list_image\">\\n          <img src=\"https://mars.nasa.gov/system/news_items/list_view_images/8712_PIA23720-320x240.jpg\"/>\\n         </div>\\n        </div>\\n        <div class=\"col-md-8\">\\n         <div class=\"list_text\">\\n          <div class=\"list_date\">\\n           March 3, 2022\\n          </div>\\n          <div class=\"content_title\">\\n           6 Things to Know About NASA\\'s Ingenuity Mars Helicopter\\n          </div>\\n          <div class=\"article_teaser_body\">\\n           The first helicopter attempting to fly on another planet is a marvel of engineering. Get up to speed with these key facts about its plans.\\n          </div>\\n         </div>\\n        </div>\\n       </div>\\n      </div>\\n      <div class=\"col-md-12\">\\n       <hr/>\\n       <div class=\"row\">\\n        <div class=\"col-md-4\">\\n         <div class=\"list_image\">\\n          <img src=\"https://mars.nasa.gov/system/news_items/list_view_images/8817_PIA23180_320.gif\"/>\\n         </div>\\n        </div>\\n        <div class=\"col-md-8\">\\n         <div class=\"list_text\">\\n          <div class=\"list_date\">\\n           March 2, 2022\\n          </div>\\n          <div class=\"content_title\">\\n           3 Things We\\'ve Learned From NASA\\'s Mars InSight\\n          </div>\\n          <div class=\"article_teaser_body\">\\n           Scientists are finding new mysteries since the geophysics mission landed two years ago.\\n          </div>\\n         </div>\\n        </div>\\n       </div>\\n      </div>\\n      <div class=\"col-md-12\">\\n       <hr/>\\n       <div class=\"row\">\\n        <div class=\"col-md-4\">\\n         <div class=\"list_image\">\\n          <img src=\"https://mars.nasa.gov/system/news_items/list_view_images/8678_21379_PIA22107-320x240.jpg\"/>\\n         </div>\\n        </div>\\n        <div class=\"col-md-8\">\\n         <div class=\"list_text\">\\n          <div class=\"list_date\">\\n           March 1, 2022\\n          </div>\\n          <div class=\"content_title\">\\n           The Detective Aboard NASA\\'s Perseverance Rover\\n          </div>\\n          <div class=\"article_teaser_body\">\\n           An instrument called SHERLOC will, with the help of its partner WATSON, hunt for signs of ancient life by detecting organic molecules and minerals.\\n          </div>\\n         </div>\\n        </div>\\n       </div>\\n      </div>\\n      <div class=\"col-md-12\">\\n       <hr/>\\n       <div class=\"row\">\\n        <div class=\"col-md-4\">\\n         <div class=\"list_image\">\\n          <img src=\"https://mars.nasa.gov/system/news_items/list_view_images/8612_Sol427-437_backcap_push_positioning-320x240.gif\"/>\\n         </div>\\n        </div>\\n        <div class=\"col-md-8\">\\n         <div class=\"list_text\">\\n          <div class=\"list_date\">\\n           February 23, 2022\\n          </div>\\n          <div class=\"content_title\">\\n           Mars InSight Lander to Push on Top of the \\'Mole\\'\\n          </div>\\n          <div class=\"article_teaser_body\">\\n           Engineers have a plan for pushing down on the heat probe, which has been stuck at the Martian surface for a year.\\n          </div>\\n         </div>\\n        </div>\\n       </div>\\n      </div>\\n      <div class=\"col-md-12\">\\n       <hr/>\\n       <div class=\"row\">\\n        <div class=\"col-md-4\">\\n         <div class=\"list_image\">\\n          <img src=\"https://mars.nasa.gov/system/news_items/list_view_images/8556_PIA23305_320x240px.jpg\"/>\\n         </div>\\n        </div>\\n        <div class=\"col-md-8\">\\n         <div class=\"list_text\">\\n          <div class=\"list_date\">\\n           February 21, 2022\\n          </div>\\n          <div class=\"content_title\">\\n           NASA Updates Mars 2020 Mission Environmental Review\\n          </div>\\n          <div class=\"article_teaser_body\">\\n           NASA and the Department of Energy have completed a more detailed risk analysis for the Mars 2020 rover launch from Florida.\\n          </div>\\n         </div>\\n        </div>\\n       </div>\\n      </div>\\n      <div class=\"col-md-12\">\\n       <hr/>\\n       <div class=\"row\">\\n        <div class=\"col-md-4\">\\n         <div class=\"list_image\">\\n          <img src=\"https://mars.nasa.gov/system/news_items/list_view_images/8507_PIA23152-320x240.jpg\"/>\\n         </div>\\n        </div>\\n        <div class=\"col-md-8\">\\n         <div class=\"list_text\">\\n          <div class=\"list_date\">\\n           February 19, 2022\\n          </div>\\n          <div class=\"content_title\">\\n           NASA\\'s Mars Helicopter Attached to Mars 2020 Rover\\n          </div>\\n          <div class=\"article_teaser_body\">\\n           The helicopter will be first aircraft to perform flight tests on another planet.\\n          </div>\\n         </div>\\n        </div>\\n       </div>\\n      </div>\\n     </div>\\n     <hr class=\"container\" style=\"margin: 25px auto;width: 83%;\"/>\\n     <button class=\"btn disable\" id=\"more\" onclick=\"populateContent()\">\\n      More\\n     </button>\\n    </section>\\n    <section class=\"last_news\">\\n     <div class=\"container\">\\n      <div class=\"row\">\\n       <div class=\"col-12\">\\n        <h2>\\n         You Might Also Like\\n        </h2>\\n       </div>\\n       <!--  <a class=\" prev\" href=\"#carouselExampleIndicators2\" role=\"button\" data-slide=\"prev\">\\n                  <i class=\"fas fa-angle-left\"></i>\\n                  </a>\\n                  <a class=\" next\" href=\"#carouselExampleIndicators2\" role=\"button\" data-slide=\"next\">\\n                  <i class=\"fas fa-angle-right\"></i>\\n                  </a> -->\\n       <div class=\"col-12\">\\n        <div class=\"carousel slide\" data-ride=\"carousel\" id=\"carouselExampleIndicators2\">\\n         <div class=\"carousel-inner\">\\n          <div class=\"carousel-item active\">\\n           <div class=\"row\">\\n            <div class=\"col-md-4 mb-3\">\\n             <div class=\"card\">\\n              <img alt=\"100%x280\" class=\"img-fluid\" src=\"https://mars.nasa.gov/system/news_items/main_images/8716_PIA23499-16.jpg\"/>\\n              <div class=\"card-body\">\\n               <p class=\"card-text\">\\n                NASA to Broadcast Mars 2020 Perseverance Launch, Prelaunch Activities\\n               </p>\\n              </div>\\n             </div>\\n            </div>\\n            <div class=\"col-md-4 mb-3\">\\n             <div class=\"card\">\\n              <img alt=\"100%x280\" class=\"img-fluid\" src=\"https://mars.nasa.gov/system/news_items/main_images/8716_PIA23499-16.jpg\"/>\\n              <div class=\"card-body\">\\n               <p class=\"card-text\">\\n                The Launch Is Approaching for NASA\\'s Next Mars Rover, Perseverance\\n               </p>\\n              </div>\\n             </div>\\n            </div>\\n            <div class=\"col-md-4 mb-3\">\\n             <div class=\"card\">\\n              <img alt=\"100%x280\" class=\"img-fluid\" src=\"https://mars.nasa.gov/system/news_items/main_images/8692_PIA23920-web.jpg\"/>\\n              <div class=\"card-body\">\\n               <p class=\"card-text\">\\n                NASA to Hold Mars 2020 Perseverance Rover Launch Briefing\\n               </p>\\n              </div>\\n             </div>\\n            </div>\\n           </div>\\n          </div>\\n          <div class=\"carousel-item\">\\n           <div class=\"row\">\\n            <div class=\"col-md-4 mb-3\">\\n             <div class=\"card\">\\n              <img alt=\"100%x280\" class=\"img-fluid\" src=\"https://images.unsplash.com/photo-1532771098148-525cefe10c23?ixlib=rb-0.3.5&amp;q=80&amp;fm=jpg&amp;crop=entropy&amp;cs=tinysrgb&amp;w=1080&amp;fit=max&amp;ixid=eyJhcHBfaWQiOjMyMDc0fQ&amp;s=3f317c1f7a16116dec454fbc267dd8e4\"/>\\n              <div class=\"card-body\">\\n               <p class=\"card-text\">\\n                With supporting text below as a natural lead-in to additional content.\\n               </p>\\n              </div>\\n             </div>\\n            </div>\\n            <div class=\"col-md-4 mb-3\">\\n             <div class=\"card\">\\n              <img alt=\"100%x280\" class=\"img-fluid\" src=\"https://images.unsplash.com/photo-1532715088550-62f09305f765?ixlib=rb-0.3.5&amp;q=80&amp;fm=jpg&amp;crop=entropy&amp;cs=tinysrgb&amp;w=1080&amp;fit=max&amp;ixid=eyJhcHBfaWQiOjMyMDc0fQ&amp;s=ebadb044b374504ef8e81bdec4d0e840\"/>\\n              <div class=\"card-body\">\\n               <p class=\"card-text\">\\n                With supporting text below as a natural lead-in to additional content.\\n               </p>\\n              </div>\\n             </div>\\n            </div>\\n            <div class=\"col-md-4 mb-3\">\\n             <div class=\"card\">\\n              <img alt=\"100%x280\" class=\"img-fluid\" src=\"https://images.unsplash.com/photo-1506197603052-3cc9c3a201bd?ixlib=rb-0.3.5&amp;q=80&amp;fm=jpg&amp;crop=entropy&amp;cs=tinysrgb&amp;w=1080&amp;fit=max&amp;ixid=eyJhcHBfaWQiOjMyMDc0fQ&amp;s=0754ab085804ae8a3b562548e6b4aa2e\"/>\\n              <div class=\"card-body\">\\n               <p class=\"card-text\">\\n                With supporting text below as a natural lead-in to additional content.\\n               </p>\\n              </div>\\n             </div>\\n            </div>\\n           </div>\\n          </div>\\n          <div class=\"carousel-item\">\\n           <div class=\"row\">\\n            <div class=\"col-md-4 mb-3\">\\n             <div class=\"card\">\\n              <img alt=\"100%x280\" class=\"img-fluid\" src=\"https://images.unsplash.com/photo-1507525428034-b723cf961d3e?ixlib=rb-0.3.5&amp;q=80&amp;fm=jpg&amp;crop=entropy&amp;cs=tinysrgb&amp;w=1080&amp;fit=max&amp;ixid=eyJhcHBfaWQiOjMyMDc0fQ&amp;s=ee8417f0ea2a50d53a12665820b54e23\"/>\\n              <div class=\"card-body\">\\n               <p class=\"card-text\">\\n                With supporting text below as a natural lead-in to additional content.\\n               </p>\\n              </div>\\n             </div>\\n            </div>\\n            <div class=\"col-md-4 mb-3\">\\n             <div class=\"card\">\\n              <img alt=\"100%x280\" class=\"img-fluid\" src=\"https://images.unsplash.com/photo-1532777946373-b6783242f211?ixlib=rb-0.3.5&amp;q=80&amp;fm=jpg&amp;crop=entropy&amp;cs=tinysrgb&amp;w=1080&amp;fit=max&amp;ixid=eyJhcHBfaWQiOjMyMDc0fQ&amp;s=8ac55cf3a68785643998730839663129\"/>\\n              <div class=\"card-body\">\\n               <p class=\"card-text\">\\n                With supporting text below as a natural lead-in to additional content.\\n               </p>\\n              </div>\\n             </div>\\n            </div>\\n            <div class=\"col-md-4 mb-3\">\\n             <div class=\"card\">\\n              <img alt=\"100%x280\" class=\"img-fluid\" src=\"https://images.unsplash.com/photo-1532763303805-529d595877c5?ixlib=rb-0.3.5&amp;q=80&amp;fm=jpg&amp;crop=entropy&amp;cs=tinysrgb&amp;w=1080&amp;fit=max&amp;ixid=eyJhcHBfaWQiOjMyMDc0fQ&amp;s=5ee4fd5d19b40f93eadb21871757eda6\"/>\\n              <div class=\"card-body\">\\n               <p class=\"card-text\">\\n                With supporting text below as a natural lead-in to additional content.\\n               </p>\\n              </div>\\n             </div>\\n            </div>\\n           </div>\\n          </div>\\n         </div>\\n        </div>\\n       </div>\\n      </div>\\n     </div>\\n    </section>\\n    <section class=\"footer\">\\n     <div class=\"container\">\\n      <div class=\"col-md-12\">\\n       <div class=\"row\">\\n        <div class=\"col-md-3\">\\n         <h5>\\n          The Red Planet\\n         </h5>\\n         <ul>\\n          <li>\\n           Dashboard\\n          </li>\\n          <li>\\n           Science Goals\\n          </li>\\n          <li>\\n           The Planet\\n          </li>\\n         </ul>\\n        </div>\\n        <div class=\"col-md-3\">\\n         <h5>\\n          The Program\\n         </h5>\\n         <ul>\\n          <li>\\n           Mission Statement\\n          </li>\\n          <li>\\n           About the Program\\n          </li>\\n          <li>\\n           Organization Why Mars?\\n          </li>\\n         </ul>\\n        </div>\\n        <div class=\"col-md-3\">\\n         <h5>\\n          Multimedia\\n         </h5>\\n         <ul>\\n          <li>\\n           Images\\n          </li>\\n          <li>\\n           Videos\\n          </li>\\n          <li>\\n           More Resources\\n          </li>\\n         </ul>\\n        </div>\\n        <div class=\"col-md-3\">\\n         <h5>\\n          Missions\\n         </h5>\\n         <ul>\\n          <li>\\n           Past\\n          </li>\\n          <li>\\n           Present\\n          </li>\\n          <li>\\n           Future\\n          </li>\\n         </ul>\\n        </div>\\n       </div>\\n      </div>\\n     </div>\\n    </section>\\n    <script src=\"https://code.jquery.com/jquery-1.12.4.min.js\" type=\"text/javascript\">\\n    </script>\\n    <script src=\"https://cdn.jsdelivr.net/npm/@popperjs/core@2.5.4/dist/umd/popper.min.js\">\\n    </script>\\n    <script src=\"https://cdn.jsdelivr.net/npm/bootstrap@5.0.0-beta1/dist/js/bootstrap.min.js\">\\n    </script>\\n    <script src=\"js/app.js\">\\n    </script>\\n   </div>\\n  </div>\\n </body>\\n</html>',\n",
       " 'mars_news_site')"
      ]
     },
     "execution_count": 6,
     "metadata": {},
     "output_type": "execute_result"
    }
   ],
   "source": [
    "# URL of page to be scraped\n",
    "driver = webdriver.Chrome(executable_path=ChromeDriverManager().install())\n",
    "url = \"https://redplanetscience.com\"\n",
    "driver.get(url)\n",
    "soup = BeautifulSoup(driver.page_source, 'html.parser')\n",
    "driver.quit()\n",
    "\n",
    "(soup.prettify(), 'mars_news_site')"
   ]
  },
  {
   "cell_type": "code",
   "execution_count": 7,
   "metadata": {},
   "outputs": [
    {
     "name": "stdout",
     "output_type": "stream",
     "text": [
      "-----------------\n",
      "NASA's Curiosity Keeps Rolling As Team Operates Rover From Home\n",
      "The team has learned to meet new challenges as they work remotely on the Mars mission.\n"
     ]
    }
   ],
   "source": [
    "#scrape the article title\n",
    "news_title = soup.select_one('.content_title').text\n",
    "    \n",
    "# scrape the article subheader\n",
    "news_p = soup.select_one('.article_teaser_body').text\n",
    "\n",
    "# print article data\n",
    "print('-----------------')\n",
    "print(news_title)\n",
    "print(news_p)\n",
    "\n",
    "# # Dictionary to be inserted into MongoDB\n",
    "# post = {\n",
    "#     'title': news_title,\n",
    "#     'news text': news_p,\n",
    "# }\n",
    "\n",
    "# # Insert dictionary into MongoDB as a document\n",
    "# collection.insert_one(post)"
   ]
  },
  {
   "cell_type": "code",
   "execution_count": 20,
   "metadata": {},
   "outputs": [
    {
     "name": "stderr",
     "output_type": "stream",
     "text": [
      "\n",
      "\n",
      "====== WebDriver manager ======\n",
      "Current google-chrome version is 99.0.4844\n",
      "Get LATEST chromedriver version for 99.0.4844 google-chrome\n",
      "Trying to download new driver from https://chromedriver.storage.googleapis.com/99.0.4844.51/chromedriver_win32.zip\n",
      "Driver has been saved in cache [C:\\Users\\Ruby\\.wdm\\drivers\\chromedriver\\win32\\99.0.4844.51]\n"
     ]
    },
    {
     "name": "stdout",
     "output_type": "stream",
     "text": [
      "https://spaceimages-mars.com/image/featured/mars1.jpg\n"
     ]
    }
   ],
   "source": [
    "#Set up Splinter\n",
    "executable_path = {'executable_path': ChromeDriverManager().install()}\n",
    "browser = Browser('chrome', **executable_path, headless=False)\n",
    "\n",
    "#Assign new URL\n",
    "url2 = \"https://spaceimages-mars.com/\"\n",
    "\n",
    "browser.visit(url2)\n",
    "\n",
    "\n",
    "#Scrape page to get feature image\n",
    "html = browser.html\n",
    "soup = BeautifulSoup(html, 'html.parser')\n",
    "\n",
    "image = soup.find_all('div', class_='header')\n",
    "\n",
    "relative_image_path = soup.find_all('img')[1][\"src\"]\n",
    "featured_image_url = url2 + relative_image_path\n",
    "\n",
    "browser.quit()\n",
    "\n",
    "#Seeing if the URL is correct\n",
    "print(featured_image_url)\n"
   ]
  },
  {
   "cell_type": "code",
   "execution_count": 25,
   "metadata": {},
   "outputs": [
    {
     "data": {
      "text/plain": [
       "[                         0                1                2\n",
       " 0  Mars - Earth Comparison             Mars            Earth\n",
       " 1                Diameter:         6,779 km        12,742 km\n",
       " 2                    Mass:  6.39 × 10^23 kg  5.97 × 10^24 kg\n",
       " 3                   Moons:                2                1\n",
       " 4       Distance from Sun:   227,943,824 km   149,598,262 km\n",
       " 5          Length of Year:   687 Earth days      365.24 days\n",
       " 6             Temperature:     -87 to -5 °C      -88 to 58°C,\n",
       "                       0                              1\n",
       " 0  Equatorial Diameter:                       6,792 km\n",
       " 1       Polar Diameter:                       6,752 km\n",
       " 2                 Mass:  6.39 × 10^23 kg (0.11 Earths)\n",
       " 3                Moons:          2 ( Phobos & Deimos )\n",
       " 4       Orbit Distance:       227,943,824 km (1.38 AU)\n",
       " 5         Orbit Period:           687 days (1.9 years)\n",
       " 6  Surface Temperature:                   -87 to -5 °C\n",
       " 7         First Record:              2nd millennium BC\n",
       " 8          Recorded By:           Egyptian astronomers]"
      ]
     },
     "execution_count": 25,
     "metadata": {},
     "output_type": "execute_result"
    }
   ],
   "source": [
    "#New URL for Mars Facts\n",
    "url3 = \"https://galaxyfacts-mars.com\"\n",
    "\n",
    "#Using Pandas to read table\n",
    "tables = pd.read_html(url3)\n",
    "tables"
   ]
  },
  {
   "cell_type": "code",
   "execution_count": 32,
   "metadata": {},
   "outputs": [
    {
     "data": {
      "text/html": [
       "<div>\n",
       "<style scoped>\n",
       "    .dataframe tbody tr th:only-of-type {\n",
       "        vertical-align: middle;\n",
       "    }\n",
       "\n",
       "    .dataframe tbody tr th {\n",
       "        vertical-align: top;\n",
       "    }\n",
       "\n",
       "    .dataframe thead th {\n",
       "        text-align: right;\n",
       "    }\n",
       "</style>\n",
       "<table border=\"1\" class=\"dataframe\">\n",
       "  <thead>\n",
       "    <tr style=\"text-align: right;\">\n",
       "      <th></th>\n",
       "      <th>0</th>\n",
       "      <th>1</th>\n",
       "      <th>2</th>\n",
       "    </tr>\n",
       "  </thead>\n",
       "  <tbody>\n",
       "    <tr>\n",
       "      <th>0</th>\n",
       "      <td>Mars - Earth Comparison</td>\n",
       "      <td>Mars</td>\n",
       "      <td>Earth</td>\n",
       "    </tr>\n",
       "    <tr>\n",
       "      <th>1</th>\n",
       "      <td>Diameter:</td>\n",
       "      <td>6,779 km</td>\n",
       "      <td>12,742 km</td>\n",
       "    </tr>\n",
       "    <tr>\n",
       "      <th>2</th>\n",
       "      <td>Mass:</td>\n",
       "      <td>6.39 × 10^23 kg</td>\n",
       "      <td>5.97 × 10^24 kg</td>\n",
       "    </tr>\n",
       "    <tr>\n",
       "      <th>3</th>\n",
       "      <td>Moons:</td>\n",
       "      <td>2</td>\n",
       "      <td>1</td>\n",
       "    </tr>\n",
       "    <tr>\n",
       "      <th>4</th>\n",
       "      <td>Distance from Sun:</td>\n",
       "      <td>227,943,824 km</td>\n",
       "      <td>149,598,262 km</td>\n",
       "    </tr>\n",
       "  </tbody>\n",
       "</table>\n",
       "</div>"
      ],
      "text/plain": [
       "                         0                1                2\n",
       "0  Mars - Earth Comparison             Mars            Earth\n",
       "1                Diameter:         6,779 km        12,742 km\n",
       "2                    Mass:  6.39 × 10^23 kg  5.97 × 10^24 kg\n",
       "3                   Moons:                2                1\n",
       "4       Distance from Sun:   227,943,824 km   149,598,262 km"
      ]
     },
     "execution_count": 32,
     "metadata": {},
     "output_type": "execute_result"
    }
   ],
   "source": [
    "df = tables[0]\n",
    "df.head()"
   ]
  },
  {
   "cell_type": "code",
   "execution_count": 33,
   "metadata": {},
   "outputs": [
    {
     "data": {
      "text/plain": [
       "'<table border=\"1\" class=\"dataframe\">\\n  <thead>\\n    <tr style=\"text-align: right;\">\\n      <th></th>\\n      <th>0</th>\\n      <th>1</th>\\n      <th>2</th>\\n    </tr>\\n  </thead>\\n  <tbody>\\n    <tr>\\n      <th>0</th>\\n      <td>Mars - Earth Comparison</td>\\n      <td>Mars</td>\\n      <td>Earth</td>\\n    </tr>\\n    <tr>\\n      <th>1</th>\\n      <td>Diameter:</td>\\n      <td>6,779 km</td>\\n      <td>12,742 km</td>\\n    </tr>\\n    <tr>\\n      <th>2</th>\\n      <td>Mass:</td>\\n      <td>6.39 × 10^23 kg</td>\\n      <td>5.97 × 10^24 kg</td>\\n    </tr>\\n    <tr>\\n      <th>3</th>\\n      <td>Moons:</td>\\n      <td>2</td>\\n      <td>1</td>\\n    </tr>\\n    <tr>\\n      <th>4</th>\\n      <td>Distance from Sun:</td>\\n      <td>227,943,824 km</td>\\n      <td>149,598,262 km</td>\\n    </tr>\\n    <tr>\\n      <th>5</th>\\n      <td>Length of Year:</td>\\n      <td>687 Earth days</td>\\n      <td>365.24 days</td>\\n    </tr>\\n    <tr>\\n      <th>6</th>\\n      <td>Temperature:</td>\\n      <td>-87 to -5 °C</td>\\n      <td>-88 to 58°C</td>\\n    </tr>\\n  </tbody>\\n</table>'"
      ]
     },
     "execution_count": 33,
     "metadata": {},
     "output_type": "execute_result"
    }
   ],
   "source": [
    "# Convert table to HTML Table String\n",
    "html_table = df.to_html()\n",
    "html_table"
   ]
  },
  {
   "cell_type": "code",
   "execution_count": 34,
   "metadata": {},
   "outputs": [
    {
     "data": {
      "text/plain": [
       "'<table border=\"1\" class=\"dataframe\">  <thead>    <tr style=\"text-align: right;\">      <th></th>      <th>0</th>      <th>1</th>      <th>2</th>    </tr>  </thead>  <tbody>    <tr>      <th>0</th>      <td>Mars - Earth Comparison</td>      <td>Mars</td>      <td>Earth</td>    </tr>    <tr>      <th>1</th>      <td>Diameter:</td>      <td>6,779 km</td>      <td>12,742 km</td>    </tr>    <tr>      <th>2</th>      <td>Mass:</td>      <td>6.39 × 10^23 kg</td>      <td>5.97 × 10^24 kg</td>    </tr>    <tr>      <th>3</th>      <td>Moons:</td>      <td>2</td>      <td>1</td>    </tr>    <tr>      <th>4</th>      <td>Distance from Sun:</td>      <td>227,943,824 km</td>      <td>149,598,262 km</td>    </tr>    <tr>      <th>5</th>      <td>Length of Year:</td>      <td>687 Earth days</td>      <td>365.24 days</td>    </tr>    <tr>      <th>6</th>      <td>Temperature:</td>      <td>-87 to -5 °C</td>      <td>-88 to 58°C</td>    </tr>  </tbody></table>'"
      ]
     },
     "execution_count": 34,
     "metadata": {},
     "output_type": "execute_result"
    }
   ],
   "source": [
    "#remove unwanted newlines from the string of code\n",
    "html_table.replace('\\n', '')"
   ]
  },
  {
   "cell_type": "code",
   "execution_count": 63,
   "metadata": {},
   "outputs": [
    {
     "name": "stderr",
     "output_type": "stream",
     "text": [
      "\n",
      "\n",
      "====== WebDriver manager ======\n",
      "Current google-chrome version is 99.0.4844\n",
      "Get LATEST chromedriver version for 99.0.4844 google-chrome\n",
      "Trying to download new driver from https://chromedriver.storage.googleapis.com/99.0.4844.51/chromedriver_win32.zip\n",
      "Driver has been saved in cache [C:\\Users\\Ruby\\.wdm\\drivers\\chromedriver\\win32\\99.0.4844.51]\n",
      "<ipython-input-63-3f6732e37ca1>:10: DeprecationWarning: executable_path has been deprecated, please pass in a Service object\n",
      "  driver = webdriver.Chrome(executable_path=ChromeDriverManager().install())\n",
      "<ipython-input-63-3f6732e37ca1>:15: DeprecationWarning: find_elements_by_tag_name is deprecated. Please use find_elements(by=By.TAG_NAME, value=name) instead\n",
      "  l=driver.find_elements_by_tag_name('a')\n",
      "<ipython-input-63-3f6732e37ca1>:27: DeprecationWarning: find_elements_by_tag_name is deprecated. Please use find_elements(by=By.TAG_NAME, value=name) instead\n",
      "  HQ_pic = driver.find_elements_by_tag_name('a')\n",
      "<ipython-input-63-3f6732e37ca1>:37: DeprecationWarning: find_element_by_xpath is deprecated. Please use find_element(by=By.XPATH, value=xpath) instead\n",
      "  title_att = driver.find_element_by_xpath('//*[@id=\"results\"]/div[1]/div/div[3]/h2')\n"
     ]
    },
    {
     "name": "stdout",
     "output_type": "stream",
     "text": [
      "dict_values([{'img_url': 'https://marshemispheres.com/images/full.jpg', 'title': 'Cerberus Hemisphere Enhanced'}, {'img_url': 'https://marshemispheres.com/images/schiaparelli_enhanced-full.jpg', 'title': 'Schiaparelli Hemisphere Enhanced'}, {'img_url': 'https://marshemispheres.com/images/syrtis_major_enhanced-full.jpg', 'title': 'Syrtis Major Hemisphere Enhanced'}, {'img_url': 'https://marshemispheres.com/images/valles_marineris_enhanced-full.jpg', 'title': 'Valles Marineris Hemisphere Enhanced'}])\n"
     ]
    }
   ],
   "source": [
    "#obtain the HQ images of Mar's hemispheres\n",
    "\n",
    "#empty list of soon-to-be-dictionaries\n",
    "hemisphere_image_urls = []\n",
    "\n",
    "# Get a List of All the Hemispheres\n",
    "\n",
    "\n",
    "\n",
    "driver = webdriver.Chrome(executable_path=ChromeDriverManager().install())\n",
    "url4 = \"https://marshemispheres.com\"\n",
    "driver.get(url4)\n",
    "\n",
    "soup = BeautifulSoup(driver.page_source, 'html.parser')\n",
    "l=driver.find_elements_by_tag_name('a')\n",
    "\n",
    "#filtering html to get to the links we want\n",
    "filtered_links = []\n",
    "for element in l:\n",
    "    href=element.get_attribute('href')\n",
    "    if '.html' in href:\n",
    "        filtered_links.append(href)\n",
    "\n",
    "#go through filtered links to get HQ picture\n",
    "for f_link in filtered_links:\n",
    "    driver.get(f_link)\n",
    "    HQ_pic = driver.find_elements_by_tag_name('a')\n",
    "    #create an empty dictionary\n",
    "    data = {}\n",
    "    #setting up img_url by getting ahh\n",
    "    for a in HQ_pic:\n",
    "        ahh= a.get_attribute('href')\n",
    "        if 'full.jpg' in ahh:\n",
    "            data['img_url']=ahh\n",
    "            break\n",
    "    #setting up title by getting title        \n",
    "    title_att = driver.find_element_by_xpath('//*[@id=\"results\"]/div[1]/div/div[3]/h2')\n",
    "    title = title_att.text\n",
    "    data ['title']=title\n",
    "    #append dictionary to list    \n",
    "    hemisphere_image_urls.append(data)\n",
    "\n",
    "driver.quit()\n",
    "#remove possible duplicates values\n",
    "hemisphere_image_urls = {frozenset(item.items()) : item for item in hemisphere_image_urls}.values()\n",
    "print(hemisphere_image_urls)\n"
   ]
  },
  {
   "cell_type": "code",
   "execution_count": null,
   "metadata": {},
   "outputs": [],
   "source": []
  }
 ],
 "metadata": {
  "interpreter": {
   "hash": "9b06d0177b23106782de6db28b7f0937f65bff3f8af1bbb2d2e40cf7191d9761"
  },
  "kernelspec": {
   "display_name": "Python 3.8.8 ('base')",
   "language": "python",
   "name": "python3"
  },
  "language_info": {
   "codemirror_mode": {
    "name": "ipython",
    "version": 3
   },
   "file_extension": ".py",
   "mimetype": "text/x-python",
   "name": "python",
   "nbconvert_exporter": "python",
   "pygments_lexer": "ipython3",
   "version": "3.8.8"
  },
  "orig_nbformat": 4
 },
 "nbformat": 4,
 "nbformat_minor": 2
}
